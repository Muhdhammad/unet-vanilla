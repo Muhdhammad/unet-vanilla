{
  "nbformat": 4,
  "nbformat_minor": 0,
  "metadata": {
    "colab": {
      "provenance": []
    },
    "kernelspec": {
      "name": "python3",
      "display_name": "Python 3"
    },
    "language_info": {
      "name": "python"
    }
  },
  "cells": [
    {
      "cell_type": "code",
      "execution_count": 1,
      "metadata": {
        "id": "66L-lL45Vefz"
      },
      "outputs": [],
      "source": [
        "import torch\n",
        "import torch.nn as nn"
      ]
    },
    {
      "cell_type": "code",
      "source": [
        "class doubleConv(nn.Module):\n",
        "\n",
        "  def __init__(self, in_channels, out_channels):\n",
        "    super().__init__()\n",
        "\n",
        "    self.double_conv = nn.Sequential(\n",
        "        nn.Conv2d(in_channels, out_channels, kernel_size=3, padding=1),\n",
        "        nn.ReLU(inplace=True),\n",
        "        nn.Conv2d(out_channels, out_channels, kernel_size=3, padding=1),\n",
        "        nn.ReLU(inplace=True)\n",
        "    )\n",
        "\n",
        "  def forward(self, x):\n",
        "    return self.double_conv(x)\n"
      ],
      "metadata": {
        "id": "zNDKK1Q5VkDp"
      },
      "execution_count": 2,
      "outputs": []
    },
    {
      "cell_type": "code",
      "source": [
        "class downSample(nn.Module):\n",
        "\n",
        "  def __init__(self, in_channels, out_channels):\n",
        "    super().__init__()\n",
        "\n",
        "    self.conv = doubleConv(in_channels, out_channels)\n",
        "    self.pool = nn.MaxPool2d(kernel_size=2, stride=2)\n",
        "\n",
        "  def forward(self, x):\n",
        "    down = self.conv(x)\n",
        "    p = self.pool(down)\n",
        "\n",
        "    return down, p\n"
      ],
      "metadata": {
        "id": "atzP-pd5cFsH"
      },
      "execution_count": 3,
      "outputs": []
    },
    {
      "cell_type": "code",
      "source": [
        "class upSample(nn.Module):\n",
        "  def __init__(self, in_channels, out_channels):\n",
        "    super().__init__()\n",
        "\n",
        "    self.up = nn.ConvTranspose2d(in_channels, in_channels//2, kernel_size=2, stride=2)\n",
        "    self.conv = doubleConv(in_channels, out_channels)\n",
        "\n",
        "  def forward(self, x1, x2):\n",
        "    x1 = self.up(x1)\n",
        "    x = torch.cat([x1, x2], 1)\n",
        "    return self.conv(x)"
      ],
      "metadata": {
        "id": "Nu0_7IxQfZzu"
      },
      "execution_count": 4,
      "outputs": []
    },
    {
      "cell_type": "code",
      "source": [
        "class unet(nn.Module):\n",
        "  def __init__(self, in_channels, num_classes):\n",
        "    super().__init__()\n",
        "\n",
        "    self.down_conv1 = downSample(in_channels, 64)\n",
        "    self.down_conv2 = downSample(64, 128)\n",
        "    self.down_conv3 = downSample(128, 256)\n",
        "    self.down_conv4 = downSample(256, 512)\n",
        "\n",
        "    self.bottleneck = doubleConv(512, 1024)\n",
        "\n",
        "    self.up_conv1 = upSample(1024, 512)\n",
        "    self.up_conv2 = upSample(512, 256)\n",
        "    self.up_conv3 = upSample(256, 128)\n",
        "    self.up_conv4 = upSample(128, 64)\n",
        "\n",
        "    self.out = nn.Conv2d(in_channels=64 , out_channels=num_classes, kernel_size=1)\n",
        "\n",
        "  def forward(self, x):\n",
        "\n",
        "    down1, p1 = self.down_conv1(x)\n",
        "    down2, p2 = self.down_conv2(p1)\n",
        "    down3, p3 = self.down_conv3(p2)\n",
        "    down4, p4 = self.down_conv4(p3)\n",
        "\n",
        "    b = self.bottleneck(p4)\n",
        "\n",
        "    up1 = self.up_conv1(b, down4)\n",
        "    up2 = self.up_conv2(up1, down3)\n",
        "    up3 = self.up_conv3(up2, down2)\n",
        "    up4 = self.up_conv4(up3, down1)\n",
        "\n",
        "    output = self.out(up4)\n",
        "    return output"
      ],
      "metadata": {
        "id": "HLZ1n-47bNND"
      },
      "execution_count": 5,
      "outputs": []
    },
    {
      "cell_type": "code",
      "source": [
        "input_image = torch.rand(1, 1, 512, 512)\n",
        "\n",
        "model = unet(1, 2)\n",
        "output = model(input_image)\n",
        "print(output.size())"
      ],
      "metadata": {
        "colab": {
          "base_uri": "https://localhost:8080/"
        },
        "id": "fxF0SGGOimzM",
        "outputId": "ef540393-0899-4ffe-fafc-ce01819837ef"
      },
      "execution_count": 6,
      "outputs": [
        {
          "output_type": "stream",
          "name": "stdout",
          "text": [
            "torch.Size([1, 2, 512, 512])\n"
          ]
        }
      ]
    },
    {
      "cell_type": "code",
      "source": [],
      "metadata": {
        "id": "azXu-xJcixy9"
      },
      "execution_count": 6,
      "outputs": []
    }
  ]
}